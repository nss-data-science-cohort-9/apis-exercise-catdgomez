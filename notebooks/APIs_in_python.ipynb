{
 "cells": [
  {
   "cell_type": "markdown",
   "metadata": {},
   "source": [
    "# Introduction to APIs\n",
    "\n",
    "\n",
    "### APIs\n",
    "\n",
    "An Application Programming Interface, or API, is a structured way to retrieve data from a website. An advantage of using APIs over, for example, downloading csv files, is that an API response will come in a structured, predictable format. There are many APIs available, including\n",
    "- Government organizations ([US Government](https://www.data.gov/developers/apis))\n",
    "- Large companies ([X API](https://developer.x.com/en/docs))\n",
    "- News organizations ([NYT API](https://developer.nytimes.com/))\n",
    "- And [many more](https://github.com/public-apis/public-apis)\n",
    "\n",
    "If you type `how to use an api in python` in google, you get back many articles walking through how to use an API. It is a well documented and useful tool to be familiar with."
   ]
  },
  {
   "cell_type": "markdown",
   "metadata": {},
   "source": [
    "We'll be interacting with APIs using HTTP requests. HTTP, or **Hypertext Transfer Protocol** is the foundation for data communication on the world wide web.\n",
    "\n",
    "It functions as a request/response protocol. The client submits a request to the server and the server returns a response message, which includes a status code indicating success or failure of the request. When navigating the web, your web browser is using HTTP requests to fetch the contents of the websites you are browsing.\n",
    "\n",
    "To send HTTP requests, we will be using the [_requests_](https://requests.readthedocs.io/en/master/) library."
   ]
  },
  {
   "cell_type": "code",
   "execution_count": 1,
   "metadata": {},
   "outputs": [],
   "source": [
    "import requests\n",
    "import matplotlib.pyplot as plt"
   ]
  },
  {
   "cell_type": "markdown",
   "metadata": {},
   "source": [
    "## Basic API Usage\n",
    "\n",
    "Let's start by using the [Star Wars API](https://swapi.dev/documentation), an API which provides information about people and places in the Star Wars Universe.\n",
    "\n",
    "With any API, you should start by inspecting the documentation"
   ]
  },
  {
   "cell_type": "markdown",
   "metadata": {},
   "source": [
    "We will be using the `requests` package to make a `GET` request to an API. GET is used to request data from a specified resource.\n",
    "\n",
    "When using an API, the first thing we need to know is the expected URL structure."
   ]
  },
  {
   "cell_type": "code",
   "execution_count": 10,
   "metadata": {},
   "outputs": [],
   "source": [
    "endpoint = 'http://swapi.dev/api/planets/1'\n",
    "\n",
    "response = requests.get(endpoint)"
   ]
  },
  {
   "cell_type": "markdown",
   "metadata": {},
   "source": [
    "Let's check the response. If all is well, we should have a 200 response."
   ]
  },
  {
   "cell_type": "code",
   "execution_count": 11,
   "metadata": {},
   "outputs": [
    {
     "data": {
      "text/plain": [
       "<Response [200]>"
      ]
     },
     "execution_count": 11,
     "metadata": {},
     "output_type": "execute_result"
    }
   ],
   "source": [
    "response"
   ]
  },
  {
   "cell_type": "markdown",
   "metadata": {},
   "source": [
    "To access the content of the response, we can look at the `text` attribute."
   ]
  },
  {
   "cell_type": "code",
   "execution_count": 12,
   "metadata": {},
   "outputs": [
    {
     "data": {
      "text/plain": [
       "'{\"name\":\"Tatooine\",\"rotation_period\":\"23\",\"orbital_period\":\"304\",\"diameter\":\"10465\",\"climate\":\"arid\",\"gravity\":\"1 standard\",\"terrain\":\"desert\",\"surface_water\":\"1\",\"population\":\"200000\",\"residents\":[\"https://swapi.dev/api/people/1/\",\"https://swapi.dev/api/people/2/\",\"https://swapi.dev/api/people/4/\",\"https://swapi.dev/api/people/6/\",\"https://swapi.dev/api/people/7/\",\"https://swapi.dev/api/people/8/\",\"https://swapi.dev/api/people/9/\",\"https://swapi.dev/api/people/11/\",\"https://swapi.dev/api/people/43/\",\"https://swapi.dev/api/people/62/\"],\"films\":[\"https://swapi.dev/api/films/1/\",\"https://swapi.dev/api/films/3/\",\"https://swapi.dev/api/films/4/\",\"https://swapi.dev/api/films/5/\",\"https://swapi.dev/api/films/6/\"],\"created\":\"2014-12-09T13:50:49.641000Z\",\"edited\":\"2014-12-20T20:58:18.411000Z\",\"url\":\"https://swapi.dev/api/planets/1/\"}'"
      ]
     },
     "execution_count": 12,
     "metadata": {},
     "output_type": "execute_result"
    }
   ],
   "source": [
    "response.text"
   ]
  },
  {
   "cell_type": "markdown",
   "metadata": {},
   "source": [
    "For demonstration purposes, let's see what happens when we send an invalid request."
   ]
  },
  {
   "cell_type": "code",
   "execution_count": 9,
   "metadata": {},
   "outputs": [
    {
     "data": {
      "text/plain": [
       "<Response [404]>"
      ]
     },
     "execution_count": 9,
     "metadata": {},
     "output_type": "execute_result"
    }
   ],
   "source": [
    "endpoint = 'http://swapi.dev/api/planet/'\n",
    "response = requests.get(endpoint)\n",
    "response"
   ]
  },
  {
   "cell_type": "markdown",
   "metadata": {},
   "source": [
    "What if we want to be able to easily change the number that we want to retrieve. For this, we can make use of an f-string. "
   ]
  },
  {
   "cell_type": "code",
   "execution_count": 13,
   "metadata": {},
   "outputs": [
    {
     "data": {
      "text/plain": [
       "'{\"name\":\"Tatooine\",\"rotation_period\":\"23\",\"orbital_period\":\"304\",\"diameter\":\"10465\",\"climate\":\"arid\",\"gravity\":\"1 standard\",\"terrain\":\"desert\",\"surface_water\":\"1\",\"population\":\"200000\",\"residents\":[\"https://swapi.dev/api/people/1/\",\"https://swapi.dev/api/people/2/\",\"https://swapi.dev/api/people/4/\",\"https://swapi.dev/api/people/6/\",\"https://swapi.dev/api/people/7/\",\"https://swapi.dev/api/people/8/\",\"https://swapi.dev/api/people/9/\",\"https://swapi.dev/api/people/11/\",\"https://swapi.dev/api/people/43/\",\"https://swapi.dev/api/people/62/\"],\"films\":[\"https://swapi.dev/api/films/1/\",\"https://swapi.dev/api/films/3/\",\"https://swapi.dev/api/films/4/\",\"https://swapi.dev/api/films/5/\",\"https://swapi.dev/api/films/6/\"],\"created\":\"2014-12-09T13:50:49.641000Z\",\"edited\":\"2014-12-20T20:58:18.411000Z\",\"url\":\"https://swapi.dev/api/planets/1/\"}'"
      ]
     },
     "execution_count": 13,
     "metadata": {},
     "output_type": "execute_result"
    }
   ],
   "source": [
    "planet_number = 1\n",
    "\n",
    "endpoint = f'http://swapi.dev/api/planets/{planet_number}'\n",
    "\n",
    "response = requests.get(endpoint)\n",
    "\n",
    "response.text"
   ]
  },
  {
   "cell_type": "markdown",
   "metadata": {},
   "source": [
    "However, it will be easier to work with as a json. We can use the `json` method to convert the results to a dictionary."
   ]
  },
  {
   "cell_type": "code",
   "execution_count": 14,
   "metadata": {},
   "outputs": [
    {
     "data": {
      "text/plain": [
       "{'name': 'Tatooine',\n",
       " 'rotation_period': '23',\n",
       " 'orbital_period': '304',\n",
       " 'diameter': '10465',\n",
       " 'climate': 'arid',\n",
       " 'gravity': '1 standard',\n",
       " 'terrain': 'desert',\n",
       " 'surface_water': '1',\n",
       " 'population': '200000',\n",
       " 'residents': ['https://swapi.dev/api/people/1/',\n",
       "  'https://swapi.dev/api/people/2/',\n",
       "  'https://swapi.dev/api/people/4/',\n",
       "  'https://swapi.dev/api/people/6/',\n",
       "  'https://swapi.dev/api/people/7/',\n",
       "  'https://swapi.dev/api/people/8/',\n",
       "  'https://swapi.dev/api/people/9/',\n",
       "  'https://swapi.dev/api/people/11/',\n",
       "  'https://swapi.dev/api/people/43/',\n",
       "  'https://swapi.dev/api/people/62/'],\n",
       " 'films': ['https://swapi.dev/api/films/1/',\n",
       "  'https://swapi.dev/api/films/3/',\n",
       "  'https://swapi.dev/api/films/4/',\n",
       "  'https://swapi.dev/api/films/5/',\n",
       "  'https://swapi.dev/api/films/6/'],\n",
       " 'created': '2014-12-09T13:50:49.641000Z',\n",
       " 'edited': '2014-12-20T20:58:18.411000Z',\n",
       " 'url': 'https://swapi.dev/api/planets/1/'}"
      ]
     },
     "execution_count": 14,
     "metadata": {},
     "output_type": "execute_result"
    }
   ],
   "source": [
    "res = response.json()\n",
    "res"
   ]
  },
  {
   "cell_type": "markdown",
   "metadata": {},
   "source": [
    "Then, we can access the individual elements by passing in the correct key."
   ]
  },
  {
   "cell_type": "code",
   "execution_count": 15,
   "metadata": {},
   "outputs": [
    {
     "data": {
      "text/plain": [
       "'Tatooine'"
      ]
     },
     "execution_count": 15,
     "metadata": {},
     "output_type": "execute_result"
    }
   ],
   "source": [
    "res['name']"
   ]
  },
  {
   "cell_type": "markdown",
   "metadata": {},
   "source": [
    "Finally, notice that we can also search. We can do this manually:"
   ]
  },
  {
   "cell_type": "code",
   "execution_count": 16,
   "metadata": {},
   "outputs": [
    {
     "data": {
      "text/plain": [
       "{'count': 1,\n",
       " 'next': None,\n",
       " 'previous': None,\n",
       " 'results': [{'name': 'Hoth',\n",
       "   'rotation_period': '23',\n",
       "   'orbital_period': '549',\n",
       "   'diameter': '7200',\n",
       "   'climate': 'frozen',\n",
       "   'gravity': '1.1 standard',\n",
       "   'terrain': 'tundra, ice caves, mountain ranges',\n",
       "   'surface_water': '100',\n",
       "   'population': 'unknown',\n",
       "   'residents': [],\n",
       "   'films': ['https://swapi.dev/api/films/2/'],\n",
       "   'created': '2014-12-10T11:39:13.934000Z',\n",
       "   'edited': '2014-12-20T20:58:18.423000Z',\n",
       "   'url': 'https://swapi.dev/api/planets/4/'}]}"
      ]
     },
     "execution_count": 16,
     "metadata": {},
     "output_type": "execute_result"
    }
   ],
   "source": [
    "endpoint = 'http://swapi.dev/api/planets/?search=hoth'\n",
    "\n",
    "response = requests.get(endpoint)\n",
    "\n",
    "response.json()"
   ]
  },
  {
   "cell_type": "markdown",
   "metadata": {},
   "source": [
    "Or we can do it by supplying a params dictionary.\n",
    "\n",
    "#### Parameters\n",
    "\n",
    "Parameters are specific to each API and indicate what information you want back. These can be compared to the various ways you slice a table or df to get just the subset you want. Some parameters are required, others are optional. Always look at the documentation to know what parameters you should include and what are possible values for each one. When using parameters for an API call, you can do the following:\n",
    "\n",
    "1. Make an empty dictionary for the `params` variable\n",
    "2. Look at the documentation to know what parameters you should include, add these as **keys** to the dictionary\n",
    "3. Add the appropriate values for each parameter as the **values** for the dictionary"
   ]
  },
  {
   "cell_type": "code",
   "execution_count": 19,
   "metadata": {},
   "outputs": [
    {
     "data": {
      "text/plain": [
       "{'count': 1,\n",
       " 'next': None,\n",
       " 'previous': None,\n",
       " 'results': [{'name': 'Hoth',\n",
       "   'rotation_period': '23',\n",
       "   'orbital_period': '549',\n",
       "   'diameter': '7200',\n",
       "   'climate': 'frozen',\n",
       "   'gravity': '1.1 standard',\n",
       "   'terrain': 'tundra, ice caves, mountain ranges',\n",
       "   'surface_water': '100',\n",
       "   'population': 'unknown',\n",
       "   'residents': [],\n",
       "   'films': ['https://swapi.dev/api/films/2/'],\n",
       "   'created': '2014-12-10T11:39:13.934000Z',\n",
       "   'edited': '2014-12-20T20:58:18.423000Z',\n",
       "   'url': 'https://swapi.dev/api/planets/4/'}]}"
      ]
     },
     "execution_count": 19,
     "metadata": {},
     "output_type": "execute_result"
    }
   ],
   "source": [
    "endpoint = 'http://swapi.dev/api/planets/'\n",
    "\n",
    "params = {\n",
    "    'search': 'hoth'\n",
    "}\n",
    "\n",
    "response = requests.get(endpoint, params=params)\n",
    "\n",
    "response.json()"
   ]
  },
  {
   "cell_type": "markdown",
   "metadata": {},
   "source": [
    "### NASA API and API Keys\n",
    "\n",
    "Now, let's work with the NASA API: https://api.nasa.gov/\n",
    "\n",
    "One of the main ways APIs maintain security is by the use of some form of authentication, such as an API key. An API key can be obtained in a number of ways, depending on the API, and is a way for the application to know who you are and provides you secure access to the data.\n",
    "\n",
    "To work with the NASA API, you'll need to create an API key.\n",
    "\n",
    "1. Scroll down and enter your First Name, Last Name, and email to generate an API key\n",
    "2. Copy the API key into the keys.json file.\n",
    "\n",
    "**DO NOT SHARE YOUR API KEYS OR PUT THEM IN A PUBLIC PLACE LIKE GITHUB**\n",
    "\n",
    "API keys should be stored securely on your computer and removed from any code or documents you share."
   ]
  },
  {
   "cell_type": "markdown",
   "metadata": {},
   "source": [
    "Now, we can safely load your key into a variable using the json library."
   ]
  },
  {
   "cell_type": "code",
   "execution_count": null,
   "metadata": {},
   "outputs": [],
   "source": [
    "import json"
   ]
  },
  {
   "cell_type": "code",
   "execution_count": null,
   "metadata": {},
   "outputs": [],
   "source": [
    "with open('keys.json') as fi:\n",
    "    credentials = json.load(fi)"
   ]
  },
  {
   "cell_type": "code",
   "execution_count": null,
   "metadata": {},
   "outputs": [],
   "source": [
    "api_key = credentials['api_key']"
   ]
  },
  {
   "cell_type": "markdown",
   "metadata": {},
   "source": [
    "1. Look at the different available APIs in the `Browse APIs` tab\n",
    "2. Click on the **Asteroids - NeoWs**\n",
    "3. Under **Neo - Feed**, copy the URL up to the `?`"
   ]
  },
  {
   "cell_type": "code",
   "execution_count": null,
   "metadata": {},
   "outputs": [],
   "source": [
    "endpoint = ''"
   ]
  },
  {
   "cell_type": "markdown",
   "metadata": {},
   "source": [
    "Fill in the parameters dictionary below to retrieve information on all NeoWs between January 1, 2022 and January 7, 2022. (Be sure the include your api key as a parameter)."
   ]
  },
  {
   "cell_type": "code",
   "execution_count": null,
   "metadata": {},
   "outputs": [],
   "source": [
    "params = {\n",
    "    \n",
    "}"
   ]
  },
  {
   "cell_type": "markdown",
   "metadata": {},
   "source": [
    "You now have all the pieces to make an API request"
   ]
  },
  {
   "cell_type": "code",
   "execution_count": null,
   "metadata": {},
   "outputs": [],
   "source": [
    "response = requests.get(endpoint, params = params)"
   ]
  },
  {
   "cell_type": "markdown",
   "metadata": {},
   "source": [
    "See what was saved to `response`"
   ]
  },
  {
   "cell_type": "code",
   "execution_count": null,
   "metadata": {},
   "outputs": [],
   "source": [
    "response"
   ]
  },
  {
   "cell_type": "markdown",
   "metadata": {},
   "source": [
    "This API returns the results as a json, so we'll access them using the `json` method."
   ]
  },
  {
   "cell_type": "code",
   "execution_count": null,
   "metadata": {},
   "outputs": [],
   "source": [
    "res = response.json()\n",
    "res"
   ]
  },
  {
   "cell_type": "code",
   "execution_count": null,
   "metadata": {},
   "outputs": [],
   "source": [
    "res.keys()"
   ]
  },
  {
   "cell_type": "markdown",
   "metadata": {},
   "source": [
    "The information that we're interested in is located under `near_earth_objects`."
   ]
  },
  {
   "cell_type": "code",
   "execution_count": null,
   "metadata": {},
   "outputs": [],
   "source": [
    "res['near_earth_objects']"
   ]
  },
  {
   "cell_type": "code",
   "execution_count": null,
   "metadata": {},
   "outputs": [],
   "source": [
    "res['near_earth_objects'].keys()"
   ]
  },
  {
   "cell_type": "markdown",
   "metadata": {},
   "source": [
    "**Question:** How many near earth objects were there on January 3?"
   ]
  },
  {
   "cell_type": "code",
   "execution_count": null,
   "metadata": {},
   "outputs": [],
   "source": [
    "# Your Code Here\n"
   ]
  },
  {
   "cell_type": "markdown",
   "metadata": {},
   "source": [
    "**Question:** Is the first returned result for January 3 potentially hazardous (as indicated by the `is_potentially_hazardous_asteroid` field)?"
   ]
  },
  {
   "cell_type": "code",
   "execution_count": null,
   "metadata": {},
   "outputs": [],
   "source": [
    "# Your Code Here\n"
   ]
  },
  {
   "cell_type": "markdown",
   "metadata": {},
   "source": [
    "**Question:** What was the relative velocity, in miles per hour of the first object returned for January 3?"
   ]
  },
  {
   "cell_type": "code",
   "execution_count": null,
   "metadata": {},
   "outputs": [],
   "source": [
    "# Your Code Here\n"
   ]
  },
  {
   "cell_type": "markdown",
   "metadata": {},
   "source": [
    "The for loop below iterates over the data returned and pulls out information for each asteroid. It then saves the information to lists, that are used for making a scatter plot of the asteroids."
   ]
  },
  {
   "cell_type": "code",
   "execution_count": null,
   "metadata": {},
   "outputs": [],
   "source": [
    "max_diam = []\n",
    "hazardous = []\n",
    "miss_dist = []\n",
    "for day, objs in res['near_earth_objects'].items():\n",
    "    for obj in objs:\n",
    "        max_diam.append(float(obj['estimated_diameter']['miles']['estimated_diameter_max']))\n",
    "        hazardous.append(obj['is_potentially_hazardous_asteroid'])\n",
    "        miss_dist.append(float(obj['close_approach_data'][0]['miss_distance']['miles']))\n",
    "\n",
    "plt.figure(figsize = (17, 10))\n",
    "plt.scatter(max_diam, miss_dist, c = hazardous)\n",
    "plt.xlabel('max diameter (miles)')\n",
    "plt.ylabel('miss distance (miles)');"
   ]
  },
  {
   "cell_type": "markdown",
   "metadata": {},
   "source": [
    "If you want to work with the response from an API using _pandas_, you'll want to convert it to a DataFrame. In some circumstances, you can easily convert a json to a DataFrame, but in other cases, you have to do a little bit of work."
   ]
  },
  {
   "cell_type": "code",
   "execution_count": null,
   "metadata": {},
   "outputs": [],
   "source": [
    "import pandas as pd"
   ]
  },
  {
   "cell_type": "markdown",
   "metadata": {},
   "source": [
    "The easiest case is when you have a list of dictionaries. Here, you can simply use the `DataFrame` constructor. Let's see how this works using one of the days. If you wanted to get all of the results into a single DataFrame, you could iterate through and concatenate. "
   ]
  },
  {
   "cell_type": "code",
   "execution_count": null,
   "metadata": {},
   "outputs": [],
   "source": [
    "pd.DataFrame(response.json()['near_earth_objects']['2022-01-07']).head(2)"
   ]
  },
  {
   "cell_type": "markdown",
   "metadata": {},
   "source": [
    "You'll notice that we still have dictionaries in some of the columns. This can be remedied using the `json_normalize` function."
   ]
  },
  {
   "cell_type": "code",
   "execution_count": null,
   "metadata": {},
   "outputs": [],
   "source": [
    "pd.json_normalize(response.json()['near_earth_objects']['2022-01-07']).head(2)"
   ]
  },
  {
   "cell_type": "markdown",
   "metadata": {},
   "source": [
    "This almost does it, but the `close_approach_data` column contains a list, which `json_normalize` can't handle. To fix this, we can use the `explode` method which will unpack the list across multiple columns, if needed."
   ]
  },
  {
   "cell_type": "code",
   "execution_count": null,
   "metadata": {},
   "outputs": [],
   "source": [
    "response_df = pd.json_normalize(response.json()['near_earth_objects']['2022-01-07'])\n",
    "response_df.explode('close_approach_data').head(2)"
   ]
  },
  {
   "cell_type": "markdown",
   "metadata": {},
   "source": [
    "Once exploded, you can use the `json_normalize` function again."
   ]
  },
  {
   "cell_type": "code",
   "execution_count": null,
   "metadata": {},
   "outputs": [],
   "source": [
    "pd.json_normalize(response_df.explode('close_approach_data')['close_approach_data']).head(2)"
   ]
  },
  {
   "cell_type": "markdown",
   "metadata": {},
   "source": [
    "And finally, you can concatenate the two pieces together."
   ]
  },
  {
   "cell_type": "code",
   "execution_count": null,
   "metadata": {},
   "outputs": [],
   "source": [
    "pd.concat([\n",
    "    response_df.explode('close_approach_data').drop(columns = ['close_approach_data']),\n",
    "    pd.json_normalize(response_df.explode('close_approach_data')['close_approach_data'])\n",
    "], axis = 1).head(2)"
   ]
  },
  {
   "cell_type": "markdown",
   "metadata": {},
   "source": [
    "Let's try another `endpoint` from NASA. This time copy the endpoint from the **APOD** (Astronomy Picture of the Day) section.\n",
    "\n",
    "Fill in the endpoint and parameters in order to retrieve the image for January 1, 2019."
   ]
  },
  {
   "cell_type": "code",
   "execution_count": null,
   "metadata": {},
   "outputs": [],
   "source": [
    "endpoint = ''\n",
    "\n",
    "params = {\n",
    "\n",
    "}"
   ]
  },
  {
   "cell_type": "code",
   "execution_count": null,
   "metadata": {},
   "outputs": [],
   "source": [
    "response = requests.get(endpoint, params = params)"
   ]
  },
  {
   "cell_type": "code",
   "execution_count": null,
   "metadata": {},
   "outputs": [],
   "source": [
    "response"
   ]
  },
  {
   "cell_type": "code",
   "execution_count": null,
   "metadata": {},
   "outputs": [],
   "source": [
    "response.json()"
   ]
  },
  {
   "cell_type": "markdown",
   "metadata": {},
   "source": [
    "Finally, let's grab the image url so that we can retrieve the actual image."
   ]
  },
  {
   "cell_type": "code",
   "execution_count": null,
   "metadata": {},
   "outputs": [],
   "source": [
    "image_response = requests.get(response.json()['url'])"
   ]
  },
  {
   "cell_type": "markdown",
   "metadata": {},
   "source": [
    "For image responses, we don't want to look at the text or json, but instead take the content. We'll now use the `.content` attribute from the response to render an image."
   ]
  },
  {
   "cell_type": "code",
   "execution_count": null,
   "metadata": {},
   "outputs": [],
   "source": [
    "from IPython.display import Image"
   ]
  },
  {
   "cell_type": "code",
   "execution_count": null,
   "metadata": {},
   "outputs": [],
   "source": [
    "Image(image_response.content)"
   ]
  }
 ],
 "metadata": {
  "kernelspec": {
   "display_name": "Python 3 (ipykernel)",
   "language": "python",
   "name": "python3"
  },
  "language_info": {
   "codemirror_mode": {
    "name": "ipython",
    "version": 3
   },
   "file_extension": ".py",
   "mimetype": "text/x-python",
   "name": "python",
   "nbconvert_exporter": "python",
   "pygments_lexer": "ipython3",
   "version": "3.13.5"
  }
 },
 "nbformat": 4,
 "nbformat_minor": 4
}
